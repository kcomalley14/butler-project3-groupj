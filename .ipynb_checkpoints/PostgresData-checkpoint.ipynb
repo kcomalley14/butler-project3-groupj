{
 "cells": [
  {
   "cell_type": "code",
   "execution_count": 1,
   "metadata": {},
   "outputs": [],
   "source": [
    "import pandas as pd\n",
    "\n"
   ]
  },
  {
   "cell_type": "code",
   "execution_count": 2,
   "metadata": {
    "scrolled": true
   },
   "outputs": [
    {
     "name": "stdout",
     "output_type": "stream",
     "text": [
      " Volume in drive C has no label.\n",
      " Volume Serial Number is 542B-68B5\n",
      "\n",
      " Directory of C:\\Users\\Owner\\Butler\\butler-project3-groupj\n",
      "\n",
      "02/27/2021  01:08 PM    <DIR>          .\n",
      "02/27/2021  01:08 PM    <DIR>          ..\n",
      "02/27/2021  01:06 PM    <DIR>          .ipynb_checkpoints\n",
      "02/27/2021  12:43 PM            13,122 Butler FinalProject GroupJ.docx\n",
      "02/27/2021  11:34 AM         2,127,027 Metro_zhvi_uc_sfr_tier_0.33_0.67_sm_sa_mon.csv\n",
      "02/27/2021  01:08 PM             2,393 PostgresData.ipynb\n",
      "02/27/2021  12:44 PM               775 README.md\n",
      "02/27/2021  01:51 PM        69,479,401 Zip_zhvi_uc_sfr_tier_0.33_0.67_sm_sa_mon.csv\n",
      "               5 File(s)     71,622,718 bytes\n",
      "               3 Dir(s)  1,493,032,095,744 bytes free\n"
     ]
    }
   ],
   "source": [
    "!dir\n",
    "\n"
   ]
  },
  {
   "cell_type": "code",
   "execution_count": 3,
   "metadata": {},
   "outputs": [],
   "source": [
    "df = pd.read_csv('Zip_zhvi_uc_sfr_tier_0.33_0.67_sm_sa_mon.csv',encoding = 'utf-8')"
   ]
  },
  {
   "cell_type": "code",
   "execution_count": 5,
   "metadata": {},
   "outputs": [
    {
     "name": "stdout",
     "output_type": "stream",
     "text": [
      "       RegionID  SizeRank  RegionName RegionType StateName State  \\\n",
      "0         61639         0       10025        Zip        NY    NY   \n",
      "1         84654         1       60657        Zip        IL    IL   \n",
      "2         61637         2       10023        Zip        NY    NY   \n",
      "3         91982         3       77494        Zip        TX    TX   \n",
      "4         84616         4       60614        Zip        IL    IL   \n",
      "...         ...       ...         ...        ...       ...   ...   \n",
      "30291     80874     34430       52204        Zip        IA    IA   \n",
      "30292     86234     34430       63875        Zip        MO    MO   \n",
      "30293     89666     34430       72630        Zip        AR    AR   \n",
      "30294     58110     35187         801        Zip        UT    UT   \n",
      "30295     58117     35187         822        Zip        LA    LA   \n",
      "\n",
      "                   City                             Metro       CountyName  \\\n",
      "0              New York       New York-Newark-Jersey City  New York County   \n",
      "1               Chicago          Chicago-Naperville-Elgin      Cook County   \n",
      "2              New York       New York-Newark-Jersey City  New York County   \n",
      "3                  Katy  Houston-The Woodlands-Sugar Land    Harris County   \n",
      "4               Chicago          Chicago-Naperville-Elgin      Cook County   \n",
      "...                 ...                               ...              ...   \n",
      "30291             Amana                               NaN      Iowa County   \n",
      "30292             Rives                           Kennett   Dunklin County   \n",
      "30293      Diamond City                          Harrison     Boone County   \n",
      "30294  Charlotte Amalie                               NaN      Kane County   \n",
      "30295         Choudrant                            Ruston   Lincoln Parish   \n",
      "\n",
      "        1996Jan  ...    2020Apr    2020May    2020Jun    2020Jul    2020Aug  \\\n",
      "0           NaN  ...  1267759.0  1263336.0  1255900.0  1254161.0  1254802.0   \n",
      "1      346006.0  ...   925653.0   925882.0   925713.0   927189.0   929286.0   \n",
      "2           NaN  ...  1791157.0  1784895.0  1786341.0  1785301.0  1785821.0   \n",
      "3      200230.0  ...   336777.0   337850.0   338709.0   339416.0   340756.0   \n",
      "4      523978.0  ...  1153998.0  1153757.0  1154784.0  1157157.0  1159582.0   \n",
      "...         ...  ...        ...        ...        ...        ...        ...   \n",
      "30291       NaN  ...   180872.0   180681.0   180000.0   178711.0   177568.0   \n",
      "30292       NaN  ...    93836.0    92880.0    91747.0    91648.0    91580.0   \n",
      "30293       NaN  ...   101473.0   101388.0   101390.0   101836.0   102316.0   \n",
      "30294       NaN  ...    34118.0    34199.0    34291.0    34390.0    34498.0   \n",
      "30295       NaN  ...   195973.0   194987.0   194550.0   194119.0   194291.0   \n",
      "\n",
      "         2020Sep    2020Oct    2020Nov    2020Dec    2021Jan  \n",
      "0      1261755.0  1265921.0  1269223.0  1272896.0  1268168.0  \n",
      "1       933614.0   938124.0   941508.0   944458.0   945868.0  \n",
      "2      1787169.0  1795812.0  1806343.0  1816418.0  1819074.0  \n",
      "3       342157.0   344387.0   347091.0   350981.0   354656.0  \n",
      "4      1164462.0  1169504.0  1173826.0  1177669.0  1179650.0  \n",
      "...          ...        ...        ...        ...        ...  \n",
      "30291   177000.0   177306.0   177761.0   177371.0   176735.0  \n",
      "30292    90927.0    89377.0    88299.0    87311.0    86812.0  \n",
      "30293   102810.0   103725.0   105198.0   107150.0   108070.0  \n",
      "30294    34612.0    34733.0    34938.0    35084.0    35237.0  \n",
      "30295   193900.0   192904.0   191800.0   191419.0   190604.0  \n",
      "\n",
      "[30296 rows x 310 columns]\n"
     ]
    }
   ],
   "source": [
    "print(df)"
   ]
  },
  {
   "cell_type": "code",
   "execution_count": 13,
   "metadata": {},
   "outputs": [
    {
     "name": "stdout",
     "output_type": "stream",
     "text": [
      "         RegionID  SizeRank  RegionName RegionType StateName State       City  \\\n",
      "0           61639         0       10025        Zip        NY    NY   New York   \n",
      "1           61639         0       10025        Zip        NY    NY   New York   \n",
      "2           61639         0       10025        Zip        NY    NY   New York   \n",
      "3           61639         0       10025        Zip        NY    NY   New York   \n",
      "4           61639         0       10025        Zip        NY    NY   New York   \n",
      "...           ...       ...         ...        ...       ...   ...        ...   \n",
      "7024015     58117     35187         822        Zip        LA    LA  Choudrant   \n",
      "7024016     58117     35187         822        Zip        LA    LA  Choudrant   \n",
      "7024017     58117     35187         822        Zip        LA    LA  Choudrant   \n",
      "7024018     58117     35187         822        Zip        LA    LA  Choudrant   \n",
      "7024019     58117     35187         822        Zip        LA    LA  Choudrant   \n",
      "\n",
      "                               Metro       CountyName  level_9          0  \n",
      "0        New York-Newark-Jersey City  New York County  2003Sep  1388774.0  \n",
      "1        New York-Newark-Jersey City  New York County  2003Oct  1396624.0  \n",
      "2        New York-Newark-Jersey City  New York County  2003Nov  1395705.0  \n",
      "3        New York-Newark-Jersey City  New York County  2003Dec  1401348.0  \n",
      "4        New York-Newark-Jersey City  New York County  2004Jan  1403785.0  \n",
      "...                              ...              ...      ...        ...  \n",
      "7024015                       Ruston   Lincoln Parish  2020Sep   193900.0  \n",
      "7024016                       Ruston   Lincoln Parish  2020Oct   192904.0  \n",
      "7024017                       Ruston   Lincoln Parish  2020Nov   191800.0  \n",
      "7024018                       Ruston   Lincoln Parish  2020Dec   191419.0  \n",
      "7024019                       Ruston   Lincoln Parish  2021Jan   190604.0  \n",
      "\n",
      "[7024020 rows x 11 columns]\n",
      "         RegionID  SizeRank  RegionName RegionType StateName State       City  \\\n",
      "0           61639         0       10025        Zip        NY    NY   New York   \n",
      "1           61639         0       10025        Zip        NY    NY   New York   \n",
      "2           61639         0       10025        Zip        NY    NY   New York   \n",
      "3           61639         0       10025        Zip        NY    NY   New York   \n",
      "4           61639         0       10025        Zip        NY    NY   New York   \n",
      "...           ...       ...         ...        ...       ...   ...        ...   \n",
      "7024015     58117     35187         822        Zip        LA    LA  Choudrant   \n",
      "7024016     58117     35187         822        Zip        LA    LA  Choudrant   \n",
      "7024017     58117     35187         822        Zip        LA    LA  Choudrant   \n",
      "7024018     58117     35187         822        Zip        LA    LA  Choudrant   \n",
      "7024019     58117     35187         822        Zip        LA    LA  Choudrant   \n",
      "\n",
      "                               Metro       CountyName  level_9          0  \n",
      "0        New York-Newark-Jersey City  New York County  2003Sep  1388774.0  \n",
      "1        New York-Newark-Jersey City  New York County  2003Oct  1396624.0  \n",
      "2        New York-Newark-Jersey City  New York County  2003Nov  1395705.0  \n",
      "3        New York-Newark-Jersey City  New York County  2003Dec  1401348.0  \n",
      "4        New York-Newark-Jersey City  New York County  2004Jan  1403785.0  \n",
      "...                              ...              ...      ...        ...  \n",
      "7024015                       Ruston   Lincoln Parish  2020Sep   193900.0  \n",
      "7024016                       Ruston   Lincoln Parish  2020Oct   192904.0  \n",
      "7024017                       Ruston   Lincoln Parish  2020Nov   191800.0  \n",
      "7024018                       Ruston   Lincoln Parish  2020Dec   191419.0  \n",
      "7024019                       Ruston   Lincoln Parish  2021Jan   190604.0  \n",
      "\n",
      "[7024020 rows x 11 columns]\n"
     ]
    }
   ],
   "source": [
    "NewData =df.set_index(['RegionID','SizeRank', 'RegionName', 'RegionType', 'StateName', 'State','City','Metro', 'CountyName'  ]).stack().reset_index()\n",
    " \n",
    "print(NewData)\n",
    "\n",
    " "
   ]
  },
  {
   "cell_type": "code",
   "execution_count": 16,
   "metadata": {},
   "outputs": [
    {
     "data": {
      "text/plain": [
       "0          10025\n",
       "1          10025\n",
       "2          10025\n",
       "3          10025\n",
       "4          10025\n",
       "           ...  \n",
       "7024015      822\n",
       "7024016      822\n",
       "7024017      822\n",
       "7024018      822\n",
       "7024019      822\n",
       "Name: RegionName, Length: 7024020, dtype: object"
      ]
     },
     "execution_count": 16,
     "metadata": {},
     "output_type": "execute_result"
    }
   ],
   "source": [
    "NewData.dtypes\n",
    "\n",
    "NewData['RegionName'].astype('object')"
   ]
  },
  {
   "cell_type": "code",
   "execution_count": null,
   "metadata": {},
   "outputs": [],
   "source": [
    "NewData.to_csv(\"cleandata/zipdata.csv\")"
   ]
  },
  {
   "cell_type": "code",
   "execution_count": null,
   "metadata": {},
   "outputs": [],
   "source": []
  },
  {
   "cell_type": "code",
   "execution_count": null,
   "metadata": {},
   "outputs": [],
   "source": []
  }
 ],
 "metadata": {
  "kernelspec": {
   "display_name": "Python [conda env:root] *",
   "language": "python",
   "name": "conda-root-py"
  },
  "language_info": {
   "codemirror_mode": {
    "name": "ipython",
    "version": 3
   },
   "file_extension": ".py",
   "mimetype": "text/x-python",
   "name": "python",
   "nbconvert_exporter": "python",
   "pygments_lexer": "ipython3",
   "version": "3.7.6"
  }
 },
 "nbformat": 4,
 "nbformat_minor": 4
}
